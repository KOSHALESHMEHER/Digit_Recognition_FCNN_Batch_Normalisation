{
  "nbformat": 4,
  "nbformat_minor": 0,
  "metadata": {
    "colab": {
      "name": "Hand_Written_Digit_Recog_FNN.ipynb",
      "provenance": [],
      "collapsed_sections": [],
      "include_colab_link": true
    },
    "kernelspec": {
      "name": "python3",
      "display_name": "Python 3"
    },
    "accelerator": "GPU"
  },
  "cells": [
    {
      "cell_type": "markdown",
      "metadata": {
        "id": "view-in-github",
        "colab_type": "text"
      },
      "source": [
        "<a href=\"https://colab.research.google.com/github/KOSHALESHMEHER/Digit_Recognition_FCNN_Batch_Normalisation/blob/master/Hand_Written_Digit_Recog_FNN.ipynb\" target=\"_parent\"><img src=\"https://colab.research.google.com/assets/colab-badge.svg\" alt=\"Open In Colab\"/></a>"
      ]
    },
    {
      "cell_type": "code",
      "metadata": {
        "id": "beLospdZjvOP",
        "colab_type": "code",
        "colab": {}
      },
      "source": [
        "import torch\n",
        "import matplotlib.pyplot as plt\n",
        "import numpy as np\n",
        "\n",
        "import torchvision\n",
        "import torchvision.transforms as transforms\n",
        "\n",
        "import torch.nn as nn\n",
        "import torch.optim as optim"
      ],
      "execution_count": 0,
      "outputs": []
    },
    {
      "cell_type": "code",
      "metadata": {
        "id": "RJPmimiFkJne",
        "colab_type": "code",
        "colab": {}
      },
      "source": [
        "trainset = torchvision.datasets.MNIST(root='./data', train=True, \n",
        "                                        download=True, \n",
        "                                        transform=transforms.ToTensor())\n",
        "testset = torchvision.datasets.MNIST(root='./data', train=False, download=True, transform=transforms.ToTensor())"
      ],
      "execution_count": 0,
      "outputs": []
    },
    {
      "cell_type": "code",
      "metadata": {
        "id": "xavch3tSkqwj",
        "colab_type": "code",
        "colab": {}
      },
      "source": [
        "batch_size = 4"
      ],
      "execution_count": 0,
      "outputs": []
    },
    {
      "cell_type": "code",
      "metadata": {
        "id": "tX1zCC6pkFqA",
        "colab_type": "code",
        "colab": {}
      },
      "source": [
        "trainloader = torch.utils.data.DataLoader(trainset, batch_size=batch_size, shuffle=True)\n",
        "testloader = torch.utils.data.DataLoader(testset, batch_size=batch_size, shuffle=False)"
      ],
      "execution_count": 0,
      "outputs": []
    },
    {
      "cell_type": "code",
      "metadata": {
        "id": "sCwL4w0PkKTP",
        "colab_type": "code",
        "outputId": "0555fe5e-569c-4726-c8d6-5f2faa71c923",
        "colab": {
          "base_uri": "https://localhost:8080/",
          "height": 68
        }
      },
      "source": [
        "dataiter = iter(trainloader)\n",
        "images, labels = dataiter.next()\n",
        "\n",
        "print(images.shape)\n",
        "\n",
        "print(images[0].shape)\n",
        "print(labels[0].item())"
      ],
      "execution_count": 0,
      "outputs": [
        {
          "output_type": "stream",
          "text": [
            "torch.Size([4, 1, 28, 28])\n",
            "torch.Size([1, 28, 28])\n",
            "0\n"
          ],
          "name": "stdout"
        }
      ]
    },
    {
      "cell_type": "code",
      "metadata": {
        "id": "OgZVAOT0kNjN",
        "colab_type": "code",
        "colab": {}
      },
      "source": [
        "def imshow(img, title):\n",
        "    \n",
        "    plt.figure(figsize=(batch_size * 4, 4))\n",
        "    plt.axis('off')\n",
        "    plt.imshow(np.transpose(img, (1, 2, 0)))\n",
        "    plt.title(title)\n",
        "    plt.show()"
      ],
      "execution_count": 0,
      "outputs": []
    },
    {
      "cell_type": "code",
      "metadata": {
        "id": "rdtOR7uUkcMV",
        "colab_type": "code",
        "colab": {}
      },
      "source": [
        "def show_batch_images(dataloader):\n",
        "    images, labels = next(iter(dataloader))\n",
        "    \n",
        "    img = torchvision.utils.make_grid(images)\n",
        "    imshow(img, title=[str(x.item()) for x in labels])\n",
        "    \n",
        "    return images, labels"
      ],
      "execution_count": 0,
      "outputs": []
    },
    {
      "cell_type": "code",
      "metadata": {
        "id": "2LCi0WLikeFb",
        "colab_type": "code",
        "outputId": "98c2c15a-b583-4bdd-a9b3-3e70f8aca206",
        "colab": {
          "base_uri": "https://localhost:8080/",
          "height": 264
        }
      },
      "source": [
        "images, labels = show_batch_images(trainloader)"
      ],
      "execution_count": 0,
      "outputs": [
        {
          "output_type": "display_data",
          "data": {
            "image/png": "[encoded data removed]",
            "text/plain": [
              "<Figure size 1152x288 with 1 Axes>"
            ]
          },
          "metadata": {
            "tags": []
          }
        }
      ]
    },
    {
      "cell_type": "code",
      "metadata": {
        "id": "OHdgG_gJdgjK",
        "colab_type": "code",
        "outputId": "3c8298d8-6890-40c2-af92-b3b1786734f8",
        "colab": {
          "base_uri": "https://localhost:8080/",
          "height": 264
        }
      },
      "source": [
        "images, labels = show_batch_images(testloader)"
      ],
      "execution_count": 0,
      "outputs": [
        {
          "output_type": "display_data",
          "data": {
            "image/png": "[encoded data removed]",
            "text/plain": [
              "<Figure size 1152x288 with 1 Axes>"
            ]
          },
          "metadata": {
            "tags": []
          }
        }
      ]
    },
    {
      "cell_type": "code",
      "metadata": {
        "id": "ugjkClw71suO",
        "colab_type": "code",
        "colab": {}
      },
      "source": [
        "class MyNet(nn.Module):\n",
        "    def __init__(self): \n",
        "        super(MyNet, self).__init__()\n",
        "        self.classifier = nn.Sequential(\n",
        "            nn.Linear(784, 48),  # 28 x 28 = 784\n",
        "            nn.ReLU(),\n",
        "            nn.Linear(48, 24),\n",
        "            nn.ReLU(),\n",
        "            nn.Linear(24, 10)\n",
        "        )\n",
        "             \n",
        "    def forward(self, x):\n",
        "        x = x.view(x.size(0), -1)\n",
        "        x = self.classifier(x)\n",
        "        return x\n",
        "      \n",
        "\n",
        "class MyNetBN(nn.Module):\n",
        "    def __init__(self): \n",
        "        super(MyNetBN, self).__init__()\n",
        "        self.classifier = nn.Sequential(\n",
        "            nn.Linear(784, 48),\n",
        "            nn.BatchNorm1d(48),\n",
        "            nn.ReLU(),\n",
        "            nn.Linear(48, 24),\n",
        "            nn.BatchNorm1d(24),\n",
        "            nn.ReLU(),\n",
        "            nn.Linear(24, 10)\n",
        "        )\n",
        "             \n",
        "    def forward(self, x):\n",
        "        x = x.view(x.size(0), -1)\n",
        "        x = self.classifier(x)\n",
        "        return x\n",
        "    "
      ],
      "execution_count": 0,
      "outputs": []
    },
    {
      "cell_type": "code",
      "metadata": {
        "id": "LvaFXlpmbdZL",
        "colab_type": "code",
        "colab": {}
      },
      "source": [
        "model = MyNet()\n",
        "model_bn = MyNetBN()"
      ],
      "execution_count": 0,
      "outputs": []
    },
    {
      "cell_type": "code",
      "metadata": {
        "id": "0tc4UwbUeVKK",
        "colab_type": "code",
        "colab": {}
      },
      "source": [
        "batch_size = 512"
      ],
      "execution_count": 0,
      "outputs": []
    },
    {
      "cell_type": "code",
      "metadata": {
        "id": "0CaOWUCHebbI",
        "colab_type": "code",
        "colab": {}
      },
      "source": [
        "trainloader = torch.utils.data.DataLoader(trainset, batch_size=batch_size, shuffle=True)\n",
        "testloader = torch.utils.data.DataLoader(testset, batch_size=batch_size, shuffle=False)"
      ],
      "execution_count": 0,
      "outputs": []
    },
    {
      "cell_type": "markdown",
      "metadata": {
        "id": "_ayxs6VlM7Rz",
        "colab_type": "text"
      },
      "source": [
        "## **CPU Execution**"
      ]
    },
    {
      "cell_type": "markdown",
      "metadata": {
        "id": "n3CgyQAQNCDG",
        "colab_type": "text"
      },
      "source": [
        ""
      ]
    },
    {
      "cell_type": "code",
      "metadata": {
        "id": "5_ni4EyftkBz",
        "colab_type": "code",
        "outputId": "d9ef6ae5-d4b5-4127-f2bf-3d3d7f525074",
        "colab": {
          "base_uri": "https://localhost:8080/",
          "height": 34
        }
      },
      "source": [
        "device = torch.device(\"cpu\")\n",
        "print(device)"
      ],
      "execution_count": 0,
      "outputs": [
        {
          "output_type": "stream",
          "text": [
            "cpu\n"
          ],
          "name": "stdout"
        }
      ]
    },
    {
      "cell_type": "code",
      "metadata": {
        "id": "H7mMreWyesDb",
        "colab_type": "code",
        "colab": {}
      },
      "source": [
        "loss_fn = nn.CrossEntropyLoss()\n",
        "opt = optim.SGD(model.parameters(), lr=0.01)\n",
        "opt_bn = optim.SGD(model_bn.parameters(), lr=0.01)"
      ],
      "execution_count": 0,
      "outputs": []
    },
    {
      "cell_type": "code",
      "metadata": {
        "id": "YmSIedNKducr",
        "colab_type": "code",
        "colab": {}
      },
      "source": [
        "def evaluation(dataloader):\n",
        "    total, correct = 0, 0\n",
        "    for data in dataloader:\n",
        "        inputs, labels = data\n",
        "        outputs = model(inputs)\n",
        "        _, pred = torch.max(outputs.data, 1)\n",
        "        total += labels.size(0)\n",
        "        correct += (pred == labels).sum().item()\n",
        "    return 100 * correct / total"
      ],
      "execution_count": 0,
      "outputs": []
    },
    {
      "cell_type": "code",
      "metadata": {
        "id": "cgj40qCiU98I",
        "colab_type": "code",
        "colab": {}
      },
      "source": [
        "def evaluation_bn(dataloader):\n",
        "    total, correct = 0, 0\n",
        "    for data in dataloader:\n",
        "        inputs, labels = data\n",
        "        outputs = model_bn(inputs)\n",
        "        _, pred = torch.max(outputs.data, 1)\n",
        "        total += labels.size(0)\n",
        "        correct += (pred == labels).sum().item()\n",
        "    return 100 * correct / total"
      ],
      "execution_count": 0,
      "outputs": []
    },
    {
      "cell_type": "code",
      "metadata": {
        "id": "SZBR5vh3fKWV",
        "colab_type": "code",
        "outputId": "63863b5d-9ef8-4b65-98c5-00292941fccc",
        "colab": {
          "base_uri": "https://localhost:8080/",
          "height": 717
        }
      },
      "source": [
        "%%time\n",
        "loss_epoch_model_arr = []\n",
        "loss_epoch_model_bn_arr = []\n",
        "max_epochs = 10\n",
        "\n",
        "for epoch in range(max_epochs):\n",
        "  \n",
        "    for i, data in enumerate(trainloader, 0):\n",
        "\n",
        "        inputs, labels = data\n",
        "        \n",
        "        # train model\n",
        "        opt.zero_grad()\n",
        "        outputs = model(inputs)\n",
        "        loss = loss_fn(outputs, labels)\n",
        "        loss.backward()\n",
        "        opt.step()\n",
        "        \n",
        "        # train model_bn\n",
        "        opt_bn.zero_grad()\n",
        "        outputs_bn = model_bn(inputs)\n",
        "        loss_bn = loss_fn(outputs_bn, labels)\n",
        "        loss_bn.backward()\n",
        "        opt_bn.step()\n",
        "        \n",
        "    loss_epoch_model_arr.append(loss.item())\n",
        "    loss_epoch_model_bn_arr.append(loss_bn.item())\n",
        "      \n",
        "    print('Epoch: %d/%d --->    Test acc (n,bn): %0.2f , %0.2f     &     Train  acc (n,bn): %0.2f , %0.2f ' % (epoch, max_epochs, evaluation(testloader),evaluation_bn(testloader), evaluation(trainloader), evaluation_bn(trainloader)))\n",
        "    \n",
        "\n",
        "plt.plot(loss_epoch_model_arr)\n",
        "plt.show()\n",
        "plt.plot(loss_epoch_model_bn_arr)\n",
        "plt.show()"
      ],
      "execution_count": 0,
      "outputs": [
        {
          "output_type": "stream",
          "text": [
            "Epoch: 0/10 --->    Test acc (n,bn): 23.89 , 77.94     &     Train  acc (n,bn): 23.55 , 76.89 \n",
            "Epoch: 1/10 --->    Test acc (n,bn): 30.88 , 86.02     &     Train  acc (n,bn): 30.02 , 85.35 \n",
            "Epoch: 2/10 --->    Test acc (n,bn): 36.05 , 89.87     &     Train  acc (n,bn): 35.68 , 89.33 \n",
            "Epoch: 3/10 --->    Test acc (n,bn): 48.10 , 91.45     &     Train  acc (n,bn): 46.45 , 91.03 \n",
            "Epoch: 4/10 --->    Test acc (n,bn): 56.23 , 92.33     &     Train  acc (n,bn): 55.46 , 92.10 \n",
            "Epoch: 5/10 --->    Test acc (n,bn): 62.55 , 92.95     &     Train  acc (n,bn): 62.31 , 92.89 \n",
            "Epoch: 6/10 --->    Test acc (n,bn): 68.95 , 93.56     &     Train  acc (n,bn): 68.88 , 93.44 \n",
            "Epoch: 7/10 --->    Test acc (n,bn): 74.40 , 93.82     &     Train  acc (n,bn): 73.82 , 93.95 \n",
            "Epoch: 8/10 --->    Test acc (n,bn): 77.71 , 94.22     &     Train  acc (n,bn): 77.15 , 94.29 \n",
            "Epoch: 9/10 --->    Test acc (n,bn): 79.99 , 94.56     &     Train  acc (n,bn): 79.39 , 94.72 \n"
          ],
          "name": "stdout"
        },
        {
          "output_type": "display_data",
          "data": {
            "image/png": "[encoded data removed]",
            "text/plain": [
              "<Figure size 432x288 with 1 Axes>"
            ]
          },
          "metadata": {
            "tags": []
          }
        },
        {
          "output_type": "display_data",
          "data": {
            "image/png": "[encoded data removed]",
            "text/plain": [
              "<Figure size 432x288 with 1 Axes>"
            ]
          },
          "metadata": {
            "tags": []
          }
        },
        {
          "output_type": "stream",
          "text": [
            "CPU times: user 3min 50s, sys: 455 ms, total: 3min 50s\n",
            "Wall time: 3min 51s\n"
          ],
          "name": "stdout"
        }
      ]
    },
    {
      "cell_type": "markdown",
      "metadata": {
        "id": "8G-UA8f3Mkv0",
        "colab_type": "text"
      },
      "source": [
        "# **GPU Execution**"
      ]
    },
    {
      "cell_type": "code",
      "metadata": {
        "id": "-kiVvPvCiCiI",
        "colab_type": "code",
        "outputId": "6f2f94b7-8bb7-431e-f854-42e5ae1da03c",
        "colab": {
          "base_uri": "https://localhost:8080/",
          "height": 34
        }
      },
      "source": [
        "device = torch.device(\"cuda:0\" if torch.cuda.is_available() else \"cpu\")\n",
        "print(device)"
      ],
      "execution_count": 0,
      "outputs": [
        {
          "output_type": "stream",
          "text": [
            "cuda:0\n"
          ],
          "name": "stdout"
        }
      ]
    },
    {
      "cell_type": "code",
      "metadata": {
        "id": "rmBLxKIuUQyF",
        "colab_type": "code",
        "colab": {}
      },
      "source": [
        "def evaluation(dataloader):\n",
        "    total, correct = 0, 0\n",
        "    for data in dataloader:\n",
        "        inputs, labels = data\n",
        "        inputs, labels = inputs.to(device), labels.to(device)\n",
        "        outputs = model(inputs)\n",
        "        _, pred = torch.max(outputs.data, 1)\n",
        "        total += labels.size(0)\n",
        "        correct += (pred == labels).sum().item()\n",
        "    return 100 * correct / total"
      ],
      "execution_count": 0,
      "outputs": []
    },
    {
      "cell_type": "code",
      "metadata": {
        "id": "EBNWwHi7cPIE",
        "colab_type": "code",
        "colab": {}
      },
      "source": [
        "def evaluation_bn(dataloader):\n",
        "    total, correct = 0, 0\n",
        "    for data in dataloader:\n",
        "        inputs, labels = data\n",
        "        inputs, labels = inputs.to(device), labels.to(device)\n",
        "        outputs = model_bn(inputs)\n",
        "        _, pred = torch.max(outputs.data, 1)\n",
        "        total += labels.size(0)\n",
        "        correct += (pred == labels).sum().item()\n",
        "    return 100 * correct / total"
      ],
      "execution_count": 0,
      "outputs": []
    },
    {
      "cell_type": "code",
      "metadata": {
        "id": "jAjYAe2SUSBq",
        "colab_type": "code",
        "colab": {}
      },
      "source": [
        "model = MyNet().to(device)\n",
        "model_bn = MyNetBN().to(device)"
      ],
      "execution_count": 0,
      "outputs": []
    },
    {
      "cell_type": "code",
      "metadata": {
        "id": "1IL3WnWWe9-U",
        "colab_type": "code",
        "colab": {}
      },
      "source": [
        "loss_fn = nn.CrossEntropyLoss()\n",
        "opt = optim.Adam(model.parameters())\n",
        "opt_bn = optim.Adam(model_bn.parameters())"
      ],
      "execution_count": 0,
      "outputs": []
    },
    {
      "cell_type": "code",
      "metadata": {
        "id": "euUs6idxaer9",
        "colab_type": "code",
        "outputId": "f71eb7c2-f21e-46bc-98e1-426732c4dc74",
        "colab": {
          "base_uri": "https://localhost:8080/",
          "height": 720
        }
      },
      "source": [
        "%%time\n",
        "\n",
        "loss_epoch_model_arr = []\n",
        "loss_epoch_model_bn_arr = []\n",
        "\n",
        "max_epochs = 10\n",
        "\n",
        "for epoch in range(max_epochs):\n",
        "\n",
        "    for i, data in enumerate(trainloader, 0):\n",
        "\n",
        "        inputs, labels = data\n",
        "        inputs, labels = inputs.to(device), labels.to(device)\n",
        "\n",
        "        # train model\n",
        "        opt.zero_grad()\n",
        "        outputs = model(inputs)\n",
        "        loss = loss_fn(outputs, labels)\n",
        "        loss.backward()\n",
        "        opt.step()\n",
        "        \n",
        "        # train model\n",
        "        opt_bn.zero_grad()\n",
        "        outputs_bn = model_bn(inputs)\n",
        "        loss_bn = loss_fn(outputs_bn, labels)\n",
        "        loss_bn.backward()\n",
        "        opt_bn.step()\n",
        "        \n",
        "    loss_epoch_model_arr.append(loss.item())\n",
        "    loss_epoch_model_bn_arr.append(loss_bn.item())\n",
        "      \n",
        "    print('Epoch: %d/%d, Test acc: %0.2f , %0.2f      Train  acc: %0.2f , %0.2f ' % (epoch, max_epochs, evaluation(testloader),evaluation_bn(testloader), evaluation(trainloader), evaluation_bn(trainloader)))\n",
        "    \n",
        "\n",
        "plt.plot(loss_epoch_model_arr)\n",
        "plt.show()\n",
        "plt.plot(loss_epoch_model_bn_arr)\n",
        "plt.show()    \n",
        "    "
      ],
      "execution_count": 0,
      "outputs": [
        {
          "output_type": "stream",
          "text": [
            "Epoch: 0/10, Test acc: 88.70 , 93.18      Train  acc: 88.03 , 92.62 \n",
            "Epoch: 1/10, Test acc: 91.57 , 95.13      Train  acc: 91.52 , 95.24 \n",
            "Epoch: 2/10, Test acc: 92.95 , 95.91      Train  acc: 92.93 , 96.68 \n",
            "Epoch: 3/10, Test acc: 93.67 , 96.64      Train  acc: 93.77 , 97.37 \n",
            "Epoch: 4/10, Test acc: 94.11 , 96.92      Train  acc: 94.33 , 98.02 \n",
            "Epoch: 5/10, Test acc: 94.57 , 96.97      Train  acc: 94.88 , 98.22 \n",
            "Epoch: 6/10, Test acc: 94.81 , 97.06      Train  acc: 95.17 , 98.58 \n",
            "Epoch: 7/10, Test acc: 95.19 , 97.11      Train  acc: 95.61 , 98.83 \n",
            "Epoch: 8/10, Test acc: 95.43 , 97.25      Train  acc: 95.98 , 99.04 \n",
            "Epoch: 9/10, Test acc: 95.43 , 97.19      Train  acc: 96.02 , 99.14 \n"
          ],
          "name": "stdout"
        },
        {
          "output_type": "display_data",
          "data": {
            "image/png": "[encoded data removed]",
            "text/plain": [
              "<Figure size 432x288 with 1 Axes>"
            ]
          },
          "metadata": {
            "tags": []
          }
        },
        {
          "output_type": "display_data",
          "data": {
            "image/png": "[encoded data removed]",
            "text/plain": [
              "<Figure size 432x288 with 1 Axes>"
            ]
          },
          "metadata": {
            "tags": []
          }
        },
        {
          "output_type": "stream",
          "text": [
            "CPU times: user 3min 49s, sys: 665 ms, total: 3min 50s\n",
            "Wall time: 3min 50s\n"
          ],
          "name": "stdout"
        }
      ]
    }
  ]
}